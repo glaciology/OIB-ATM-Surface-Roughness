{
 "cells": [
  {
   "cell_type": "markdown",
   "metadata": {},
   "source": [
    "## Script for acquisition and spatial filtering of all available ILATM2 data within the 2004 ice edge. \n",
    "\n",
    "### - Link to ILATM2 docs: https://nsidc.org/data/ilatm2/versions/2\n",
    "### - Link to ice extent .shp: http://cinergi.sdsc.edu/geoportal/rest/metadata/item/6b9cbb294e8d49268c17f396d476113b/html\n",
    "\n"
   ]
  },
  {
   "cell_type": "code",
   "execution_count": null,
   "metadata": {},
   "outputs": [],
   "source": [
    "# Download command -- run in directory where you want data saved! \n",
    "\n",
    "wget --http-user=<username> --http-password=<password> --load-cookies\n",
    "~/.urs_cookies --save-cookies ~/.urs_cookies --keep-session-cookies\n",
    "--no-check-certificate --auth-no-challenge=on -r --reject \"index.html*\"\n",
    "--reject \"*.xml\" -q -np -e robots=off\n",
    "https://n5eil01u.ecs.nsidc.org/ICEBRIDGE/ILATM2.002/"
   ]
  },
  {
   "cell_type": "code",
   "execution_count": 1,
   "metadata": {},
   "outputs": [],
   "source": [
    "# Imports and dependencies \n",
    "\n",
    "import geopandas as gpd\n",
    "import pandas as pd\n",
    "import numpy as np\n",
    "import glob\n",
    "import os"
   ]
  },
  {
   "cell_type": "code",
   "execution_count": null,
   "metadata": {},
   "outputs": [],
   "source": [
    "# Function to process each day's downloaded .csv files\n",
    "\n",
    "def day(fname): \n",
    "    files=glob.glob(fname+'/*.csv') # Get files \n",
    "    if len(files)==0: # If none found, exit \n",
    "        return \n",
    "    date=fname.split('/')[-1].split('.') # Get date \n",
    "    format_dif=0\n",
    "    if date[0]==['2019']:\n",
    "        format_dif=1\n",
    "    os.makedirs('../../oib_ATM_test/{}/{}'.format(date[0],date[1]), exist_ok=True) # Make directory for year+month (YYMM)\n",
    "    f=open(files[0],'r') # Open read files \n",
    "    f_new=open('../../oib_ATM_test/{}/{}/{}.csv'.format(date[0],date[1],date[2]),'w') # Open write files\n",
    "    for i in files: \n",
    "        f=open(i,'r')\n",
    "        if first==False: # If not first, skip header \n",
    "            for j in range(10+format_dif):\n",
    "                f.readline()\n",
    "        else: # If first, write header \n",
    "            for j in range(9+format_dif):\n",
    "                f.readline()\n",
    "            f_new.write(f.readline()[2:-1]+', Year, Month, Day\\n')\n",
    "            first=False \n",
    "        for j in f: # Add rows and year+month+day (YYMMDD) \n",
    "            f_new.write(j[:-1]+',{},{},{}\\n'.format(date[0],date[1],date[2])),\n",
    "    f.close() # Close read files \n",
    "    f_new.close() # Close write files "
   ]
  },
  {
   "cell_type": "code",
   "execution_count": null,
   "metadata": {},
   "outputs": [],
   "source": [
    "# Process all days \n",
    "\n",
    "files=glob.glob('./*')\n",
    "for i in files: \n",
    "    day(i)"
   ]
  },
  {
   "cell_type": "code",
   "execution_count": null,
   "metadata": {},
   "outputs": [],
   "source": [
    "# Move processed files to correct year+month folder \n",
    "\n",
    "files=glob.glob('./*/*/*.csv')\n",
    "for i in files: \n",
    "    name = i.split('.')[1].split('/')\n",
    "    newname = '{}{}'.format(name[-2], name[-1]) # Set file name \n",
    "    os.rename(i,'./{}/{}/{}.csv'.format(name[1],name[2],newname))"
   ]
  },
  {
   "cell_type": "code",
   "execution_count": 4,
   "metadata": {},
   "outputs": [],
   "source": [
    "# Function to concatenate each month and filter to ice extent \n",
    "\n",
    "def make_years(base_path, output_file, ice_extent_shp): \n",
    "    ice_extent = gpd.read_file(ice_extent_shp) # Load shapefile\n",
    "    ice_extent = ice_extent.to_crs(epsg=3413) # Set CRS to polar stereographic \n",
    "    month_folders = glob.glob(os.path.join(base_path, '*/*'))\n",
    "    yearly_data = {}\n",
    "    for month_folder in month_folders:\n",
    "        parts = month_folder.split(os.sep) # Get YYMM\n",
    "        year = parts[-2]\n",
    "        month = parts[-1]\n",
    "        if year not in yearly_data: \n",
    "            yearly_data[year] = pd.DataFrame()\n",
    "        csv_files = glob.glob(os.path.join(month_folder, '*.csv'))\n",
    "        month_df = pd.DataFrame()\n",
    "        for file in csv_files: # Concatenate folders \n",
    "            df = pd.read_csv(file)\n",
    "            month_df = pd.concat([month_df, df], ignore_index=True)\n",
    "        yearly_data[year] = pd.concat([yearly_data[year], month_df], ignore_index=True) # Append months to years \n",
    "    for year, data in yearly_data.items():\n",
    "        gdf = gpd.GeoDataFrame(data, geometry=gpd.points_from_xy(data['Longitude(deg)'],data['Latitude(deg)']), crs='epsg:4326') # Convert data to geodataframe\n",
    "        gdf = gdf.to_crs(epsg=3413) # Set CRS to polar stereographic \n",
    "        gdf['Easting'] = gdf.geometry.x \n",
    "        gdf['Northing'] = gdf.geometry.y \n",
    "        gdf_in = gpd.sjoin(gdf, ice_extent, op='within') # Filter to within the ice extent \n",
    "        year_output_dir = os.path.join(output_dir, year) # Save filtered data\n",
    "        os.makedirs(year_output_dir, exist_ok=True)\n",
    "        output_file = os.path.join(year_output_dir, f'{year}.csv')\n",
    "        gdf_in.drop(columns='geometry', index=False)\n",
    "        gdf_in.to_csv(output_file, index=False)\n",
    "        print(f\"Saved data for {year} to {output_file}\")"
   ]
  },
  {
   "cell_type": "code",
   "execution_count": null,
   "metadata": {},
   "outputs": [],
   "source": [
    "# Filter and concatenate \n",
    "\n",
    "ice_extent_shp = './greenland_ice_extent/greenland_ice_extent.shp' # Path to .shp\n",
    "base_path = './' # Path to ILATM2 data \n",
    "output_dir = '/yearly_data' # Path to output directory\n",
    "os.makedirs(output_dir, exist_ok=True)\n",
    "make_years(base_path, output_dir, ice_extent_shp)"
   ]
  }
 ],
 "metadata": {
  "kernelspec": {
   "display_name": "Python 3",
   "language": "python",
   "name": "python3"
  },
  "language_info": {
   "codemirror_mode": {
    "name": "ipython",
    "version": 3
   },
   "file_extension": ".py",
   "mimetype": "text/x-python",
   "name": "python",
   "nbconvert_exporter": "python",
   "pygments_lexer": "ipython3",
   "version": "3.11.3"
  }
 },
 "nbformat": 4,
 "nbformat_minor": 2
}

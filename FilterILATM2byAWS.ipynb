{
 "cells": [
  {
   "cell_type": "code",
   "execution_count": null,
   "metadata": {},
   "outputs": [],
   "source": [
    "\"\"\"\n",
    "AWS Filtering Script for Operation IceBridge Airborne Topographic Mapper L2 Icessn Elevation, Slope, and Roughness, v.2 Data\n",
    "\n",
    "This script filters ILATM2 data to within 5km of on-ice PROMIC and GC-NET automated weather stations. \n",
    "Shapefiles for the AWS locations and Greenland coastline was sourced from QGreenland. \n",
    "\"\"\""
   ]
  },
  {
   "cell_type": "code",
   "execution_count": null,
   "metadata": {},
   "outputs": [],
   "source": [
    "# Imports necessary libraries\n",
    "\n",
    "import pandas as pd\n",
    "import geopandas as gpd\n",
    "import os"
   ]
  },
  {
   "cell_type": "code",
   "execution_count": null,
   "metadata": {},
   "outputs": [],
   "source": [
    "coastline_gpd = gpd.read_file(\"./greenlandCoastline.shp\") # Load coastline .shp \n",
    "GCNET_gdf = gpd.read_file(\"./WxStations/GCNETSites.shp\") # Load GCNET .shps \n",
    "PROMICE_gdf = gpd.read_file(\"./WxStations/PROMICESites.shp\") # Load PROMICE .shps \n",
    "\n",
    "GCNET_gdf = GCNET_gdf.to_crs(coastline_gpd.crs) # Set weather stations to coastline CRS \n",
    "PROMICE_gdf = PROMICE_gdf.to_crs(coastline_gpd.crs)\n",
    "\n",
    "GCNET_gdf[\"buffered_5km\"] = GCNET_gdf.buffer(5000) # Buffer station locations with a 5 km radius \n",
    "PROMICE_gdf[\"buffered_5km\"] = PROMICE_gdf.buffer(5000)\n",
    "\n",
    "weather_stations = gpd.GeoDataFrame(pd.concat([GCNET_gdf, PROMICE_gdf], ignore_index=True), crs=coastline_gpd.crs) # Concatenate PROMICE and GC-NET stations \n",
    " \n",
    "main_folder_path = \"./weather_stations/\"   \n",
    "output_folder_path = \"./weather_stations_5km/\"\n",
    "\n",
    "os.makedirs(output_folder_path, exist_ok=True) # Create output directory if it doesn't exist"
   ]
  },
  {
   "cell_type": "code",
   "execution_count": null,
   "metadata": {},
   "outputs": [],
   "source": [
    "for csv_file in os.listdir(main_folder_path): # Process each buffered .csv\n",
    "    if csv_file.endswith('.csv'): # Check if the file has a '.csv' extension\n",
    "        csv_file_path = os.path.join(main_folder_path, csv_file) # Create the full file path\n",
    "        print(f\"Processing file: {csv_file_path}\")\n",
    "\n",
    "        df = pd.read_csv(csv_file_path) # Read .csvs into a DataFrame \n",
    "        df = df.apply(pd.to_numeric, errors='coerce').dropna() # Convert columns to numeric\n",
    "        df = df.rename(str.strip, axis='columns')\n",
    "\n",
    "        tmp_gdf = gpd.GeoDataFrame(df, geometry=gpd.points_from_xy(df['Longitude(deg)'], df['Latitude(deg)']), crs='EPSG:4326') # Convert to DFs to GDFs \n",
    "        tmp_gdf = tmp_gdf.to_crs(coastline_gpd.crs) # Reproject GDF to coastline CRS \n",
    "\n",
    "        clipped_data = [] # Initialize list to store clipped data \n",
    "        for i in range(len(weather_stations)): # Loop through each station and clip the data within the 5km buffer of the station\n",
    "            clipped_gdf = gpd.clip(tmp_gdf, weather_stations.loc[i, \"buffered_5km\"]) \n",
    "            \n",
    "            if not clipped_gdf.empty: # If the clipped data is not empty, append it to the list\n",
    "                clipped_data.append(clipped_gdf)\n",
    "\n",
    "        if clipped_data: # Cncatenate the DataFrames and save the result\n",
    "            out = pd.concat(clipped_data).drop(columns='geometry') \n",
    "            output_file_path = os.path.join(output_folder_path, csv_file.replace('.csv', '_5km_buffered.csv')) # Create output file path \n",
    "            out.to_csv(output_file_path, index=False) # Save to a .csv \n",
    "            print(f\"File saved: {output_file_path}\")\n",
    "\n",
    "        else: \n",
    "            print(f\"No data after clipped for file: {csv_file}\") # If no data was saved, print a message\n",
    "\n"
   ]
  }
 ],
 "metadata": {
  "kernelspec": {
   "display_name": "Python 3",
   "language": "python",
   "name": "python3"
  },
  "language_info": {
   "codemirror_mode": {
    "name": "ipython",
    "version": 3
   },
   "file_extension": ".py",
   "mimetype": "text/x-python",
   "name": "python",
   "nbconvert_exporter": "python",
   "pygments_lexer": "ipython3",
   "version": "3.11.3"
  }
 },
 "nbformat": 4,
 "nbformat_minor": 2
}
